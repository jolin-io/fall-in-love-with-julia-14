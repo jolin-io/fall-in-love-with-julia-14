{
 "cells": [
  {
   "cell_type": "markdown",
   "metadata": {},
   "source": [
    "[![Binder](https://mybinder.org/badge_logo.svg)](https://notebooks.gesis.org/binder/v2/gh/jolin-io/fall-in-love-with-julia-14/main?filepath=01%20Introduction%20to%20JuMP.ipynb)"
   ]
  },
  {
   "cell_type": "markdown",
   "metadata": {},
   "source": [
    "<a href=\"https://www.jolin.io\" target=\"_blank\" rel=\"noreferrer noopener\">\n",
    "<img src=\"https://www.jolin.io/assets/Jolin/Jolin-Banner-Website-v1.3-darkmode.webp\">\n",
    "</a>"
   ]
  },
  {
   "cell_type": "markdown",
   "metadata": {},
   "source": [
    "# Introduction to JuMP\n",
    "\n",
    "JuMP.jl let's you solve mathematical optimization problems like contraint programming or schedule optimization.\n",
    "Essentially it gives you a modeling language to interface numerous solvers."
   ]
  },
  {
   "cell_type": "code",
   "execution_count": 87,
   "metadata": {},
   "outputs": [
    {
     "data": {
      "text/plain": [
       "A JuMP Model\n",
       "Feasibility problem with:\n",
       "Variables: 0\n",
       "Model mode: AUTOMATIC\n",
       "CachingOptimizer state: EMPTY_OPTIMIZER\n",
       "Solver name: HiGHS"
      ]
     },
     "metadata": {},
     "output_type": "display_data"
    }
   ],
   "source": [
    "using JuMP, HiGHS\n",
    "model = Model(HiGHS.Optimizer)"
   ]
  },
  {
   "cell_type": "markdown",
   "metadata": {},
   "source": [
    "## The Basics"
   ]
  },
  {
   "cell_type": "markdown",
   "metadata": {},
   "source": [
    "### Variables"
   ]
  },
  {
   "cell_type": "code",
   "execution_count": 88,
   "metadata": {},
   "outputs": [
    {
     "data": {
      "text/latex": [
       "$ {\\_}_{3} $"
      ],
      "text/plain": [
       "_[3]"
      ]
     },
     "metadata": {},
     "output_type": "display_data"
    }
   ],
   "source": [
    "# named style\n",
    "@variable(model, 0 <= v1 <= 6)  # default type is Float\n",
    "@variable(model, v2, Bin)  # Int or Bin (Binary) are also valid\n",
    "\n",
    "# anonymous style\n",
    "v3 = @variable(model, integer=true, lower_bound=0)  # binary keyword"
   ]
  },
  {
   "cell_type": "code",
   "execution_count": 89,
   "metadata": {},
   "outputs": [
    {
     "data": {
      "text/latex": [
       "$ v1 $"
      ],
      "text/plain": [
       "v1"
      ]
     },
     "metadata": {},
     "output_type": "display_data"
    }
   ],
   "source": [
    "# named variables are stored in the model\n",
    "model[:v1]"
   ]
  },
  {
   "cell_type": "code",
   "execution_count": 90,
   "metadata": {},
   "outputs": [
    {
     "data": {
      "text/plain": [
       "Dict{Symbol, Any} with 2 entries:\n",
       "  :v2 => v2\n",
       "  :v1 => v1"
      ]
     },
     "metadata": {},
     "output_type": "display_data"
    }
   ],
   "source": [
    "JuMP.object_dictionary(model)"
   ]
  },
  {
   "cell_type": "markdown",
   "metadata": {},
   "source": [
    "### Constraints\n",
    "\n",
    "Typically `<=` comparisons. Strict comparisons need to be modeled by an epsilon difference."
   ]
  },
  {
   "cell_type": "code",
   "execution_count": 91,
   "metadata": {},
   "outputs": [
    {
     "data": {
      "text/latex": [
       "$$ 300 v2 + 7 {\\_}_{3} \\geq 300 $$"
      ],
      "text/plain": [
       "300 v2 + 7 _[3] ≥ 300"
      ]
     },
     "metadata": {},
     "output_type": "display_data"
    }
   ],
   "source": [
    "# named constraint\n",
    "@constraint(model, c1, 6v1 >= 100v2 + 3)\n",
    "\n",
    "# anonymous constraint\n",
    "c2 = @constraint(model, 7v3 >= 300(1-v2))"
   ]
  },
  {
   "cell_type": "code",
   "execution_count": 92,
   "metadata": {},
   "outputs": [
    {
     "data": {
      "text/plain": [
       "Dict{Symbol, Any} with 3 entries:\n",
       "  :v2 => v2\n",
       "  :c1 => c1 : 6 v1 - 100 v2 ≥ 3\n",
       "  :v1 => v1"
      ]
     },
     "metadata": {},
     "output_type": "display_data"
    }
   ],
   "source": [
    "# named constraints get also listed\n",
    "JuMP.object_dictionary(model)"
   ]
  },
  {
   "cell_type": "markdown",
   "metadata": {},
   "source": [
    "Different solvers can deal with different complexities. `HiGHS` can solve Mixed Integer Linear Programs, i.e. for example no quadratic constraints"
   ]
  },
  {
   "cell_type": "markdown",
   "metadata": {},
   "source": [
    "### Objective\n",
    "\n",
    "The goal, how the model shall be optimized"
   ]
  },
  {
   "cell_type": "code",
   "execution_count": 93,
   "metadata": {},
   "outputs": [
    {
     "data": {
      "text/latex": [
       "$ 12 v1 + v2 + 20 {\\_}_{3} $"
      ],
      "text/plain": [
       "12 v1 + v2 + 20 _[3]"
      ]
     },
     "metadata": {},
     "output_type": "display_data"
    }
   ],
   "source": [
    "@objective(model, Min, 12v1 + v2 + 20v3)"
   ]
  },
  {
   "cell_type": "markdown",
   "metadata": {},
   "source": [
    "### Solve"
   ]
  },
  {
   "cell_type": "code",
   "execution_count": 94,
   "metadata": {},
   "outputs": [
    {
     "name": "stdout",
     "output_type": "stream",
     "text": [
      "Running HiGHS 1.6.0: Copyright (c) 2023 HiGHS under MIT licence terms\n",
      "Presolving model\n",
      "2 rows, 2 cols, 2 nonzeros\n",
      "0 rows, 0 cols, 0 nonzeros\n",
      "Presolve: Optimal\n",
      "\n",
      "Solving report\n",
      "  Status            Optimal\n",
      "  Primal bound      866\n",
      "  Dual bound        866\n",
      "  Gap               0% (tolerance: 0.01%)\n",
      "  Solution status   feasible\n",
      "                    866 (objective)\n",
      "                    0 (bound viol.)\n",
      "                    0 (int. viol.)\n",
      "                    0 (row viol.)\n",
      "  Timing            0.00 (total)\n",
      "                    0.00 (presolve)\n",
      "                    0.00 (postsolve)\n",
      "  Nodes             0\n",
      "  LP iterations     0 (total)\n",
      "                    0 (strong br.)\n",
      "                    0 (separation)\n",
      "                    0 (heuristics)\n"
     ]
    }
   ],
   "source": [
    "optimize!(model)"
   ]
  },
  {
   "cell_type": "code",
   "execution_count": 100,
   "metadata": {},
   "outputs": [
    {
     "data": {
      "text/plain": [
       "true"
      ]
     },
     "metadata": {},
     "output_type": "display_data"
    }
   ],
   "source": [
    "# Always check whether the model was actually solved\n",
    "is_solved_and_feasible(model) || error(\"Knock. Knock. I need your help.\")"
   ]
  },
  {
   "cell_type": "code",
   "execution_count": 101,
   "metadata": {},
   "outputs": [
    {
     "data": {
      "text/plain": [
       "(minimum = 866.0, variables = (0.5, 0.0, 43.0), constraints = (3.0, 301.0))"
      ]
     },
     "metadata": {},
     "output_type": "display_data"
    }
   ],
   "source": [
    "# the value function can be used to extract solutions\n",
    "(\n",
    "    minimum = objective_value(model),\n",
    "    variables = (value(v1), value(model[:v2]), value(v3)),\n",
    "    constraints = (value(c1), value(c2)),\n",
    ")"
   ]
  },
  {
   "cell_type": "markdown",
   "metadata": {},
   "source": [
    "**👉 Your Challenge:** Change the constraints/objective such that `v1` becomes the largest value."
   ]
  },
  {
   "cell_type": "markdown",
   "metadata": {},
   "source": [
    "## N-Queens and indexed variables\n",
    "\n",
    "Adapted from a tutorial by Matthew Helm and Mathieu Tanneau.\n",
    "\n",
    "![N-Queens illustration](https://jump.dev/JuMP.jl/stable/assets/n_queens4.png)"
   ]
  },
  {
   "cell_type": "code",
   "execution_count": 109,
   "metadata": {},
   "outputs": [
    {
     "data": {
      "text/plain": [
       "8"
      ]
     },
     "metadata": {},
     "output_type": "display_data"
    }
   ],
   "source": [
    "using LinearAlgebra\n",
    "model_queens = Model(HiGHS.Optimizer)\n",
    "N = 8"
   ]
  },
  {
   "cell_type": "markdown",
   "metadata": {},
   "source": [
    "### Indexed Variables\n",
    "\n",
    "This is actually super powerful - you can use arbitrary julia ranges or vectors for indices.\n",
    "E.g. imagine indexing by date."
   ]
  },
  {
   "cell_type": "code",
   "execution_count": 110,
   "metadata": {},
   "outputs": [
    {
     "data": {
      "text/plain": [
       "8×8 Matrix{VariableRef}:\n",
       " x[1,1]  x[1,2]  x[1,3]  x[1,4]  x[1,5]  x[1,6]  x[1,7]  x[1,8]\n",
       " x[2,1]  x[2,2]  x[2,3]  x[2,4]  x[2,5]  x[2,6]  x[2,7]  x[2,8]\n",
       " x[3,1]  x[3,2]  x[3,3]  x[3,4]  x[3,5]  x[3,6]  x[3,7]  x[3,8]\n",
       " x[4,1]  x[4,2]  x[4,3]  x[4,4]  x[4,5]  x[4,6]  x[4,7]  x[4,8]\n",
       " x[5,1]  x[5,2]  x[5,3]  x[5,4]  x[5,5]  x[5,6]  x[5,7]  x[5,8]\n",
       " x[6,1]  x[6,2]  x[6,3]  x[6,4]  x[6,5]  x[6,6]  x[6,7]  x[6,8]\n",
       " x[7,1]  x[7,2]  x[7,3]  x[7,4]  x[7,5]  x[7,6]  x[7,7]  x[7,8]\n",
       " x[8,1]  x[8,2]  x[8,3]  x[8,4]  x[8,5]  x[8,6]  x[8,7]  x[8,8]"
      ]
     },
     "metadata": {},
     "output_type": "display_data"
    }
   ],
   "source": [
    "@variable(model_queens, x[1:N, 1:N], Bin)"
   ]
  },
  {
   "cell_type": "markdown",
   "metadata": {},
   "source": [
    "### Constraints\n",
    "\n",
    "Similarly, constraints can be indexed. However here simple constraints are enough."
   ]
  },
  {
   "cell_type": "code",
   "execution_count": 112,
   "metadata": {},
   "outputs": [],
   "source": [
    "# There must be exactly one queen in a given row/column\n",
    "for i in 1:N\n",
    "    # anonymous constraints get handy inside loops\n",
    "    @constraint(model_queens, sum(x[i, :]) == 1)\n",
    "    @constraint(model_queens, sum(x[:, i]) == 1)\n",
    "end"
   ]
  },
  {
   "cell_type": "code",
   "execution_count": 114,
   "metadata": {},
   "outputs": [],
   "source": [
    "# There can only be one queen on any given diagonal\n",
    "for i in -(N - 1):(N-1)\n",
    "    # diag comes from LinearAlgebra\n",
    "    @constraint(model_queens, sum(diag(x, i)) <= 1)\n",
    "    @constraint(model_queens, sum(diag(reverse(x; dims = 1), i)) <= 1)\n",
    "end"
   ]
  },
  {
   "cell_type": "markdown",
   "metadata": {},
   "source": [
    "### Solve\n",
    "\n",
    "This is how to combine JuMP model with data."
   ]
  },
  {
   "cell_type": "code",
   "execution_count": 116,
   "metadata": {},
   "outputs": [],
   "source": [
    "fix(x[1, 2], 1)\n",
    "fix(x[5, 3], 1)"
   ]
  },
  {
   "cell_type": "markdown",
   "metadata": {},
   "source": [
    "now optimize given these given queen positions"
   ]
  },
  {
   "cell_type": "code",
   "execution_count": 131,
   "metadata": {},
   "outputs": [
    {
     "data": {
      "text/plain": [
       "8×8 Matrix{Int64}:\n",
       " 0  1  0  0  0  0  0  0\n",
       " 0  0  0  1  0  0  0  0\n",
       " 0  0  0  0  0  1  0  0\n",
       " 0  0  0  0  0  0  0  1\n",
       " 0  0  1  0  0  0  0  0\n",
       " 1  0  0  0  0  0  0  0\n",
       " 0  0  0  0  0  0  1  0\n",
       " 0  0  0  0  1  0  0  0"
      ]
     },
     "metadata": {},
     "output_type": "display_data"
    }
   ],
   "source": [
    "set_attribute(model_queens, \"output_flag\", false)  # hide HiGHS optimize! output \n",
    "optimize!(model_queens)\n",
    "@assert is_solved_and_feasible(model_queens)\n",
    "round.(Int, value.(x))"
   ]
  },
  {
   "cell_type": "markdown",
   "metadata": {},
   "source": [
    "**👉 Your Challenge:** Change the initial fixed queens. What happens if you introduce an infeasible situation?"
   ]
  },
  {
   "cell_type": "markdown",
   "metadata": {},
   "source": [
    "## Sudoku and constraint programming\n",
    "\n",
    "Adapted from a tutorial by Iain Dunning.\n",
    "\n",
    "![Sudoku illustration](https://jump.dev/JuMP.jl/stable/assets/partial_sudoku.png)\n",
    "\n",
    "You can model Sudoku similar to N-Queens with Binary variables. Or you use contraint programming.\n"
   ]
  },
  {
   "cell_type": "code",
   "execution_count": 135,
   "metadata": {},
   "outputs": [
    {
     "data": {
      "text/plain": [
       "A JuMP Model\n",
       "Feasibility problem with:\n",
       "Variables: 0\n",
       "Model mode: AUTOMATIC\n",
       "CachingOptimizer state: EMPTY_OPTIMIZER\n",
       "Solver name: HiGHS"
      ]
     },
     "metadata": {},
     "output_type": "display_data"
    }
   ],
   "source": [
    "model_sudoku = Model(HiGHS.Optimizer)"
   ]
  },
  {
   "cell_type": "markdown",
   "metadata": {},
   "source": [
    "Instead of the binary variables, we directly define a 9x9 grid of integer values between 1 and 9:"
   ]
  },
  {
   "cell_type": "code",
   "execution_count": 137,
   "metadata": {},
   "outputs": [
    {
     "data": {
      "text/plain": [
       "9×9 Matrix{VariableRef}:\n",
       " x[1,1]  x[1,2]  x[1,3]  x[1,4]  x[1,5]  x[1,6]  x[1,7]  x[1,8]  x[1,9]\n",
       " x[2,1]  x[2,2]  x[2,3]  x[2,4]  x[2,5]  x[2,6]  x[2,7]  x[2,8]  x[2,9]\n",
       " x[3,1]  x[3,2]  x[3,3]  x[3,4]  x[3,5]  x[3,6]  x[3,7]  x[3,8]  x[3,9]\n",
       " x[4,1]  x[4,2]  x[4,3]  x[4,4]  x[4,5]  x[4,6]  x[4,7]  x[4,8]  x[4,9]\n",
       " x[5,1]  x[5,2]  x[5,3]  x[5,4]  x[5,5]  x[5,6]  x[5,7]  x[5,8]  x[5,9]\n",
       " x[6,1]  x[6,2]  x[6,3]  x[6,4]  x[6,5]  x[6,6]  x[6,7]  x[6,8]  x[6,9]\n",
       " x[7,1]  x[7,2]  x[7,3]  x[7,4]  x[7,5]  x[7,6]  x[7,7]  x[7,8]  x[7,9]\n",
       " x[8,1]  x[8,2]  x[8,3]  x[8,4]  x[8,5]  x[8,6]  x[8,7]  x[8,8]  x[8,9]\n",
       " x[9,1]  x[9,2]  x[9,3]  x[9,4]  x[9,5]  x[9,6]  x[9,7]  x[9,8]  x[9,9]"
      ]
     },
     "metadata": {},
     "output_type": "display_data"
    }
   ],
   "source": [
    "@variable(model_sudoku, 1 <= x[1:9, 1:9] <= 9, Int)"
   ]
  },
  {
   "cell_type": "markdown",
   "metadata": {},
   "source": [
    "### Constraint Sets\n",
    "\n",
    "JuMP has a couple of [special Sets](https://jump.dev/JuMP.jl/stable/tutorials/linear/constraint_programming/) which can be used for constraint programming."
   ]
  },
  {
   "cell_type": "code",
   "execution_count": 144,
   "metadata": {},
   "outputs": [],
   "source": [
    "# values in each row/column must be all-different\n",
    "# note, these are indexed constraints, a bit like a for loop\n",
    "@constraint(model_sudoku, [i = 1:9], x[i, :] in MOI.AllDifferent(9))\n",
    "@constraint(model_sudoku, [j = 1:9], x[:, j] in MOI.AllDifferent(9));"
   ]
  },
  {
   "cell_type": "code",
   "execution_count": 141,
   "metadata": {},
   "outputs": [],
   "source": [
    "# values in each 3x3 sub-grid must be all-different\n",
    "for i in (0, 3, 6), j in (0, 3, 6)\n",
    "    @constraint(model_sudoku, vec(x[i.+(1:3), j.+(1:3)]) in MOI.AllDifferent(9))\n",
    "end"
   ]
  },
  {
   "cell_type": "markdown",
   "metadata": {},
   "source": [
    "### Solve"
   ]
  },
  {
   "cell_type": "code",
   "execution_count": 147,
   "metadata": {},
   "outputs": [
    {
     "data": {
      "text/plain": [
       "9×9 Matrix{Int64}:\n",
       " 9  7  5  8  2  3  1  4  6\n",
       " 1  6  3  9  7  4  8  5  2\n",
       " 8  2  4  6  1  5  9  3  7\n",
       " 7  3  8  2  5  6  4  9  1\n",
       " 4  1  6  7  9  8  5  2  3\n",
       " 2  5  9  3  4  1  7  6  8\n",
       " 6  4  7  1  3  9  2  8  5\n",
       " 5  8  1  4  6  2  3  7  9\n",
       " 3  9  2  5  8  7  6  1  4"
      ]
     },
     "metadata": {},
     "output_type": "display_data"
    }
   ],
   "source": [
    "set_attribute(model_sudoku, \"output_flag\", false)\n",
    "optimize!(model_sudoku)\n",
    "@assert is_solved_and_feasible(model_sudoku)\n",
    "round.(Int, value.(x))"
   ]
  },
  {
   "cell_type": "markdown",
   "metadata": {},
   "source": [
    "### Fix initial values\n",
    "\n",
    "**👉 Your Challenge:** Similarly to N-Queens, fix the given numbers for the Sudoku example."
   ]
  },
  {
   "cell_type": "code",
   "execution_count": 149,
   "metadata": {},
   "outputs": [],
   "source": [
    "# Your Space\n",
    "# ..."
   ]
  },
  {
   "cell_type": "markdown",
   "metadata": {},
   "source": [
    "# Next: [02 Tips and Tricks and DisjunctiveProgramming](https://notebooks.gesis.org/binder/v2/gh/jolin-io/fall-in-love-with-julia-14/main?filepath=02%20Tips%20and%20Tricks%20and%20DisjunctiveProgramming.ipynb)\n",
    "\n",
    "\n",
    "For questions or suggestions please contact me at stephan.sahm@jolin.io\n",
    "\n",
    "<a href=\"https://www.jolin.io\" target=\"_blank\" rel=\"noreferrer noopener\">\n",
    "<img src=\"https://www.jolin.io/assets/Jolin/Jolin-Banner-Website-v1.3-darkmode.webp\">\n",
    "</a>\n"
   ]
  }
 ],
 "metadata": {
  "kernelspec": {
   "display_name": "Julia 1.10.1",
   "language": "julia",
   "name": "julia-1.10"
  },
  "language_info": {
   "file_extension": ".jl",
   "mimetype": "application/julia",
   "name": "julia",
   "version": "1.10.1"
  }
 },
 "nbformat": 4,
 "nbformat_minor": 2
}
