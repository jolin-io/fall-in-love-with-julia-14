{
 "cells": [
  {
   "cell_type": "markdown",
   "metadata": {},
   "source": [
    "[![Binder](https://mybinder.org/badge_logo.svg)](https://notebooks.gesis.org/binder/v2/gh/jolin-io/fall-in-love-with-julia-14/main?filepath=01%20Introduction%20to%20JuMP.ipynb)"
   ]
  },
  {
   "cell_type": "markdown",
   "metadata": {},
   "source": [
    "<a href=\"https://www.jolin.io\" target=\"_blank\" rel=\"noreferrer noopener\">\n",
    "<img src=\"https://www.jolin.io/assets/Jolin/Jolin-Banner-Website-v1.3-darkmode.webp\">\n",
    "</a>"
   ]
  },
  {
   "cell_type": "markdown",
   "metadata": {},
   "source": [
    "# Introduction to JuMP\n",
    "\n",
    "JuMP.jl let's you solve mathematical optimization problems like contraint programming or schedule optimization.\n",
    "Essentially it gives you a modeling language to interface numerous solvers."
   ]
  },
  {
   "cell_type": "code",
   "execution_count": null,
   "metadata": {},
   "outputs": [],
   "source": [
    "using JuMP, HiGHS\n",
    "model = Model(HiGHS.Optimizer)"
   ]
  },
  {
   "cell_type": "markdown",
   "metadata": {},
   "source": [
    "## The Basics"
   ]
  },
  {
   "cell_type": "markdown",
   "metadata": {},
   "source": [
    "### Variables"
   ]
  },
  {
   "cell_type": "code",
   "execution_count": null,
   "metadata": {},
   "outputs": [],
   "source": [
    "# named style\n",
    "@variable(model, 0 <= v1 <= 6)  # default type is Float\n",
    "@variable(model, v2, Bin)  # Int or Bin (Binary) are also valid\n",
    "\n",
    "# anonymous style\n",
    "v3 = @variable(model, integer=true, lower_bound=0)  # binary keyword"
   ]
  },
  {
   "cell_type": "code",
   "execution_count": null,
   "metadata": {},
   "outputs": [],
   "source": [
    "# named variables are stored in the model\n",
    "model[:v1]"
   ]
  },
  {
   "cell_type": "code",
   "execution_count": null,
   "metadata": {},
   "outputs": [],
   "source": [
    "JuMP.object_dictionary(model)"
   ]
  },
  {
   "cell_type": "markdown",
   "metadata": {},
   "source": [
    "### Constraints\n",
    "\n",
    "Typically `<=` comparisons. Strict comparisons need to be modeled by an epsilon difference."
   ]
  },
  {
   "cell_type": "code",
   "execution_count": null,
   "metadata": {},
   "outputs": [],
   "source": [
    "# named constraint\n",
    "@constraint(model, c1, 6v1 >= 100v2 + 3)\n",
    "\n",
    "# anonymous constraint\n",
    "c2 = @constraint(model, 7v3 >= 300(1-v2))"
   ]
  },
  {
   "cell_type": "code",
   "execution_count": null,
   "metadata": {},
   "outputs": [],
   "source": [
    "# named constraints get also listed\n",
    "JuMP.object_dictionary(model)"
   ]
  },
  {
   "cell_type": "markdown",
   "metadata": {},
   "source": [
    "Different solvers can deal with different complexities. `HiGHS` can solve Mixed Integer Linear Programs, i.e. for example no quadratic constraints"
   ]
  },
  {
   "cell_type": "markdown",
   "metadata": {},
   "source": [
    "### Objective\n",
    "\n",
    "The goal, how the model shall be optimized"
   ]
  },
  {
   "cell_type": "code",
   "execution_count": null,
   "metadata": {},
   "outputs": [],
   "source": [
    "@objective(model, Min, 12v1 + v2 + 20v3)"
   ]
  },
  {
   "cell_type": "markdown",
   "metadata": {},
   "source": [
    "### Solve"
   ]
  },
  {
   "cell_type": "code",
   "execution_count": null,
   "metadata": {},
   "outputs": [],
   "source": [
    "optimize!(model)"
   ]
  },
  {
   "cell_type": "code",
   "execution_count": null,
   "metadata": {},
   "outputs": [],
   "source": [
    "# Always check whether the model was actually solved\n",
    "is_solved_and_feasible(model) || error(\"Knock. Knock. I need your help.\")"
   ]
  },
  {
   "cell_type": "code",
   "execution_count": null,
   "metadata": {},
   "outputs": [],
   "source": [
    "# the value function can be used to extract solutions\n",
    "(\n",
    "    minimum = objective_value(model),\n",
    "    variables = (value(v1), value(model[:v2]), value(v3)),\n",
    "    constraints = (value(c1), value(c2)),\n",
    ")"
   ]
  },
  {
   "cell_type": "markdown",
   "metadata": {},
   "source": [
    "**👉 Your Challenge:** Change the constraints/objective such that `v1` becomes the largest value."
   ]
  },
  {
   "cell_type": "markdown",
   "metadata": {},
   "source": [
    "## N-Queens and indexed variables\n",
    "\n",
    "Adapted from a tutorial by Matthew Helm and Mathieu Tanneau.\n",
    "\n",
    "![N-Queens illustration](https://jump.dev/JuMP.jl/stable/assets/n_queens4.png)"
   ]
  },
  {
   "cell_type": "code",
   "execution_count": null,
   "metadata": {},
   "outputs": [],
   "source": [
    "using LinearAlgebra\n",
    "model_queens = Model(HiGHS.Optimizer)\n",
    "N = 8"
   ]
  },
  {
   "cell_type": "markdown",
   "metadata": {},
   "source": [
    "### Indexed Variables\n",
    "\n",
    "This is actually super powerful - you can use arbitrary julia ranges or vectors for indices.\n",
    "E.g. imagine indexing by date."
   ]
  },
  {
   "cell_type": "code",
   "execution_count": null,
   "metadata": {},
   "outputs": [],
   "source": [
    "@variable(model_queens, x[1:N, 1:N], Bin)"
   ]
  },
  {
   "cell_type": "markdown",
   "metadata": {},
   "source": [
    "### Constraints\n",
    "\n",
    "Similarly, constraints can be indexed. However here simple constraints are enough."
   ]
  },
  {
   "cell_type": "code",
   "execution_count": null,
   "metadata": {},
   "outputs": [],
   "source": [
    "# There must be exactly one queen in a given row/column\n",
    "for i in 1:N\n",
    "    # anonymous constraints get handy inside loops\n",
    "    @constraint(model_queens, sum(x[i, :]) == 1)\n",
    "    @constraint(model_queens, sum(x[:, i]) == 1)\n",
    "end"
   ]
  },
  {
   "cell_type": "code",
   "execution_count": null,
   "metadata": {},
   "outputs": [],
   "source": [
    "# There can only be one queen on any given diagonal\n",
    "for i in -(N - 1):(N-1)\n",
    "    # diag comes from LinearAlgebra\n",
    "    @constraint(model_queens, sum(diag(x, i)) <= 1)\n",
    "    @constraint(model_queens, sum(diag(reverse(x; dims = 1), i)) <= 1)\n",
    "end"
   ]
  },
  {
   "cell_type": "markdown",
   "metadata": {},
   "source": [
    "### Solve\n",
    "\n",
    "This is how to combine JuMP model with data."
   ]
  },
  {
   "cell_type": "code",
   "execution_count": null,
   "metadata": {},
   "outputs": [],
   "source": [
    "fix(x[1, 2], 1)\n",
    "fix(x[5, 3], 1)"
   ]
  },
  {
   "cell_type": "markdown",
   "metadata": {},
   "source": [
    "now optimize given these given queen positions"
   ]
  },
  {
   "cell_type": "code",
   "execution_count": null,
   "metadata": {},
   "outputs": [],
   "source": [
    "set_attribute(model_queens, \"output_flag\", false)  # hide HiGHS optimize! output \n",
    "optimize!(model_queens)\n",
    "@assert is_solved_and_feasible(model_queens)\n",
    "round.(Int, value.(x))"
   ]
  },
  {
   "cell_type": "markdown",
   "metadata": {},
   "source": [
    "**👉 Your Challenge:** Change the initial fixed queens. What happens if you introduce an infeasible situation?"
   ]
  },
  {
   "cell_type": "markdown",
   "metadata": {},
   "source": [
    "## Sudoku and constraint programming\n",
    "\n",
    "Adapted from a tutorial by Iain Dunning.\n",
    "\n",
    "![Sudoku illustration](https://jump.dev/JuMP.jl/stable/assets/partial_sudoku.png)\n",
    "\n",
    "You can model Sudoku similar to N-Queens with Binary variables. Or you use contraint programming.\n"
   ]
  },
  {
   "cell_type": "code",
   "execution_count": null,
   "metadata": {},
   "outputs": [],
   "source": [
    "model_sudoku = Model(HiGHS.Optimizer)"
   ]
  },
  {
   "cell_type": "markdown",
   "metadata": {},
   "source": [
    "Instead of the binary variables, we directly define a 9x9 grid of integer values between 1 and 9:"
   ]
  },
  {
   "cell_type": "code",
   "execution_count": null,
   "metadata": {},
   "outputs": [],
   "source": [
    "@variable(model_sudoku, 1 <= x[1:9, 1:9] <= 9, Int)"
   ]
  },
  {
   "cell_type": "markdown",
   "metadata": {},
   "source": [
    "### Constraint Sets\n",
    "\n",
    "JuMP has a couple of [special Sets](https://jump.dev/JuMP.jl/stable/tutorials/linear/constraint_programming/) which can be used for constraint programming."
   ]
  },
  {
   "cell_type": "code",
   "execution_count": null,
   "metadata": {},
   "outputs": [],
   "source": [
    "# values in each row/column must be all-different\n",
    "# note, these are indexed constraints, a bit like a for loop\n",
    "@constraint(model_sudoku, [i = 1:9], x[i, :] in MOI.AllDifferent(9))\n",
    "@constraint(model_sudoku, [j = 1:9], x[:, j] in MOI.AllDifferent(9));"
   ]
  },
  {
   "cell_type": "code",
   "execution_count": null,
   "metadata": {},
   "outputs": [],
   "source": [
    "# values in each 3x3 sub-grid must be all-different\n",
    "for i in (0, 3, 6), j in (0, 3, 6)\n",
    "    @constraint(model_sudoku, vec(x[i.+(1:3), j.+(1:3)]) in MOI.AllDifferent(9))\n",
    "end"
   ]
  },
  {
   "cell_type": "markdown",
   "metadata": {},
   "source": [
    "### Solve"
   ]
  },
  {
   "cell_type": "code",
   "execution_count": null,
   "metadata": {},
   "outputs": [],
   "source": [
    "set_attribute(model_sudoku, \"output_flag\", false)\n",
    "optimize!(model_sudoku)\n",
    "@assert is_solved_and_feasible(model_sudoku)\n",
    "round.(Int, value.(x))"
   ]
  },
  {
   "cell_type": "markdown",
   "metadata": {},
   "source": [
    "### Fix initial values\n",
    "\n",
    "**👉 Your Challenge:** Similarly to N-Queens, fix the given numbers for the Sudoku example."
   ]
  },
  {
   "cell_type": "code",
   "execution_count": null,
   "metadata": {},
   "outputs": [],
   "source": [
    "# Your Space\n",
    "# ..."
   ]
  },
  {
   "cell_type": "markdown",
   "metadata": {},
   "source": [
    "# Next: [02 Tips and Tricks and DisjunctiveProgramming](https://notebooks.gesis.org/binder/v2/gh/jolin-io/fall-in-love-with-julia-14/main?filepath=02%20Tips%20and%20Tricks%20and%20DisjunctiveProgramming.ipynb)\n",
    "\n",
    "\n",
    "For questions or suggestions please contact me at stephan.sahm@jolin.io\n",
    "\n",
    "<a href=\"https://www.jolin.io\" target=\"_blank\" rel=\"noreferrer noopener\">\n",
    "<img src=\"https://www.jolin.io/assets/Jolin/Jolin-Banner-Website-v1.3-darkmode.webp\">\n",
    "</a>\n"
   ]
  }
 ],
 "metadata": {
  "kernelspec": {
   "display_name": "Julia 1.10.1",
   "language": "julia",
   "name": "julia-1.10"
  },
  "language_info": {
   "file_extension": ".jl",
   "mimetype": "application/julia",
   "name": "julia",
   "version": "1.10.1"
  }
 },
 "nbformat": 4,
 "nbformat_minor": 2
}
