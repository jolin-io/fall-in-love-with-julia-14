{
 "cells": [
  {
   "cell_type": "markdown",
   "metadata": {},
   "source": [
    "[![Binder](https://mybinder.org/badge_logo.svg)](https://notebooks.gesis.org/binder/v2/gh/jolin-io/fall-in-love-with-julia-14/main?filepath=02%20Tips%20and%20Tricks%20and%20DisjunctiveProgramming.ipynb)"
   ]
  },
  {
   "cell_type": "markdown",
   "metadata": {},
   "source": [
    "<a href=\"https://www.jolin.io\" target=\"_blank\" rel=\"noreferrer noopener\">\n",
    "<img src=\"https://www.jolin.io/assets/Jolin/Jolin-Banner-Website-v1.3-darkmode.webp\">\n",
    "</a>"
   ]
  },
  {
   "cell_type": "markdown",
   "metadata": {},
   "source": [
    "# Tips and Tricks and DisjunctiveProgramming.jl\n",
    "\n",
    "Expressing standard things in JuMP.\n",
    "\n",
    "If you are new to JuMP you will be surprised how restrictive mathematical optimization is."
   ]
  },
  {
   "cell_type": "code",
   "execution_count": null,
   "metadata": {},
   "outputs": [],
   "source": [
    "using JuMP, HiGHS"
   ]
  },
  {
   "cell_type": "markdown",
   "metadata": {},
   "source": [
    "## Tips and Tricks\n",
    "\n",
    "Luckily JuMP comes with a good overview about common pitfalls. Definitely checkout the following Tips and Tricks sections.\n",
    "\n",
    "- [Linear programs T&T](https://jump.dev/JuMP.jl/stable/tutorials/linear/tips_and_tricks/)\n",
    "- [Nonlinear programs T&T](https://jump.dev/JuMP.jl/stable/tutorials/nonlinear/tips_and_tricks/)\n",
    "- [Conic programs T&T](https://jump.dev/JuMP.jl/stable/tutorials/conic/tips_and_tricks/)"
   ]
  },
  {
   "cell_type": "markdown",
   "metadata": {},
   "source": [
    "### max, min\n",
    "\n",
    "The `max` Function is nonlinear but can be partly expressed as a linear program.\n",
    "\n",
    "`t ≥ max{x,y}`"
   ]
  },
  {
   "cell_type": "code",
   "execution_count": null,
   "metadata": {},
   "outputs": [],
   "source": [
    "model_max = Model(HiGHS.Optimizer);\n",
    "@variable(model_max, t)\n",
    "@variable(model_max, x)\n",
    "@variable(model_max, y)\n",
    "@constraint(model_max, t >= x)\n",
    "@constraint(model_max, t >= y)\n",
    "@objective(model_max, Min, t)\n",
    "\n",
    "fix(x, 4)\n",
    "fix(y, 5)\n",
    "\n",
    "set_attribute(model_max, \"output_flag\", false)  # hide HiGHS optimize! output \n",
    "optimize!(model_max)\n",
    "@assert is_solved_and_feasible(model_max)\n",
    "value(t)"
   ]
  },
  {
   "cell_type": "markdown",
   "metadata": {},
   "source": [
    "**👉 Your Challenge:** Change `x` and `y` to see that it actually works."
   ]
  },
  {
   "cell_type": "markdown",
   "metadata": {},
   "source": [
    "`t ≥ min{x,y}`\n",
    "\n",
    "This formulation is not possible in linear programs. For nonlinear programs you can use [nested optimizations](https://jump.dev/JuMP.jl/stable/tutorials/nonlinear/nested_problems/)."
   ]
  },
  {
   "cell_type": "markdown",
   "metadata": {},
   "source": [
    "### other T&T\n",
    "\n",
    "\n",
    "**👉 Your Challenge:** Take a look at another T&T for linear programs."
   ]
  },
  {
   "cell_type": "code",
   "execution_count": null,
   "metadata": {},
   "outputs": [],
   "source": [
    "# Your Space\n",
    "# ..."
   ]
  },
  {
   "cell_type": "markdown",
   "metadata": {},
   "source": [
    "The following linear T&T are better done with `DisjunctiveProgramming`:\n",
    "- Boolean operators\n",
    "- Disjunctions\n",
    "- Indicator Constraints"
   ]
  },
  {
   "cell_type": "markdown",
   "metadata": {},
   "source": [
    "## Disjunctive Programming\n",
    "\n",
    "remember our initial optimization example?\n",
    "\n",
    "```julia\n",
    "@variable(model, v >= 0)\n",
    "@variable(model, b, Bin)\n",
    "\n",
    "@constraint(model, v >= 4*b)  # if b == 1, this constraint is \"active\"\n",
    "@constraint(model, v >= 6*(1-b))  # if b == 0, this constraint is \"active\"\n",
    "\n",
    "@objective(model, Min, v)\n",
    "```\n",
    "\n",
    "This is a kind of disjunction, an OR relation among constraints."
   ]
  },
  {
   "cell_type": "code",
   "execution_count": null,
   "metadata": {},
   "outputs": [],
   "source": [
    "using DisjunctiveProgramming\n",
    "model_or = GDPModel(HiGHS.Optimizer)  # More expressive version of Model"
   ]
  },
  {
   "cell_type": "markdown",
   "metadata": {},
   "source": [
    "### Logical Variables (instead of Binary)\n",
    "\n",
    "DisjunctiveProgramming works best when using one logical variable per alternative."
   ]
  },
  {
   "cell_type": "code",
   "execution_count": null,
   "metadata": {},
   "outputs": [],
   "source": [
    "@variable(model_or, Y[1:2], Logical)"
   ]
  },
  {
   "cell_type": "markdown",
   "metadata": {},
   "source": [
    "These can be restricted such e.g. that only one holds true."
   ]
  },
  {
   "cell_type": "code",
   "execution_count": null,
   "metadata": {},
   "outputs": [],
   "source": [
    "@constraint(model_or, Y in Exactly(1))  # logical constraint set"
   ]
  },
  {
   "cell_type": "markdown",
   "metadata": {},
   "source": [
    "### Disjunctive Constraints\n",
    "\n",
    "In order to connect a constraint to a given alternative, add an extra argument like `Disjunct(Y[1])`."
   ]
  },
  {
   "cell_type": "markdown",
   "metadata": {},
   "source": [
    "**👉 Your Challenge:** What kind of OR relation is defined here?"
   ]
  },
  {
   "cell_type": "code",
   "execution_count": null,
   "metadata": {},
   "outputs": [],
   "source": [
    "@variable(model_or, x[1:2])\n",
    "\n",
    "@constraint(model_or, x[1] + 1 == x[2], Disjunct(Y[1]))\n",
    "@constraint(model_or, x[2] + 1 == x[1], Disjunct(Y[2]))\n",
    "\n",
    "@objective(model_or, Min, sum(x))"
   ]
  },
  {
   "cell_type": "markdown",
   "metadata": {},
   "source": [
    "Importantly, these constraints only become active if the logical variables are further specified in `@disjunction`"
   ]
  },
  {
   "cell_type": "code",
   "execution_count": null,
   "metadata": {},
   "outputs": [],
   "source": [
    "@disjunction(model_or, Y, exactly1=false)"
   ]
  },
  {
   "cell_type": "markdown",
   "metadata": {},
   "source": [
    "By default `@disjunction` does two things\n",
    "- Informing the model which Disjunctive Constraints to expand (you get wrong results without it)\n",
    "- adding Exactly1 constraints\n",
    "\n",
    "Separating both is more generic and will help us below."
   ]
  },
  {
   "cell_type": "code",
   "execution_count": null,
   "metadata": {},
   "outputs": [],
   "source": [
    "# when fixing another value, you need to reexecute all cells\n",
    "fix(x[1], 3)"
   ]
  },
  {
   "cell_type": "code",
   "execution_count": null,
   "metadata": {},
   "outputs": [],
   "source": [
    "set_attribute(model_or, \"output_flag\", false)  # hide HiGHS optimize! output \n",
    "optimize!(model_or)\n",
    "round.(value.(x))"
   ]
  },
  {
   "cell_type": "markdown",
   "metadata": {},
   "source": [
    "## Scheduling Tasks to Workers\n",
    "\n",
    "Let's look at a common real-world example."
   ]
  },
  {
   "cell_type": "code",
   "execution_count": null,
   "metadata": {},
   "outputs": [],
   "source": [
    "# Symbols are needed because of https://github.com/hdavid16/DisjunctiveProgramming.jl/issues/112\n",
    "tasks = Symbol.([\n",
    "    \"repair bicycle 1 front weel\"\n",
    "    \"repair bicycle 2 light\"\n",
    "    \"order 4 weels\"\n",
    "    \"be at the service desk\"\n",
    "    \"exchange old bikes with new bikes\"\n",
    "    \"call customer Mr. Yu\"\n",
    "    \"relax\"\n",
    "])"
   ]
  },
  {
   "cell_type": "code",
   "execution_count": null,
   "metadata": {},
   "outputs": [],
   "source": [
    "workers = Symbol.([\n",
    "    \"Nora\"\n",
    "    \"Omar\"\n",
    "])"
   ]
  },
  {
   "cell_type": "code",
   "execution_count": null,
   "metadata": {},
   "outputs": [],
   "source": [
    "model_bicycle = GDPModel(HiGHS.Optimizer)\n",
    "# for each task we create a time variable\n",
    "@variable(model_bicycle, 0 <= times[tasks] <= 200);"
   ]
  },
  {
   "cell_type": "markdown",
   "metadata": {},
   "source": [
    "Use complex indices to represent our assignment from task to worker as logical variables."
   ]
  },
  {
   "cell_type": "code",
   "execution_count": null,
   "metadata": {},
   "outputs": [],
   "source": [
    "@variable(model_bicycle, assign[tasks, workers], Logical)"
   ]
  },
  {
   "cell_type": "markdown",
   "metadata": {},
   "source": [
    "✅ Each task should be assigned to one worker."
   ]
  },
  {
   "cell_type": "code",
   "execution_count": null,
   "metadata": {},
   "outputs": [],
   "source": [
    "@constraint(model_bicycle, [t=tasks], assign[t, :] in Exactly(1));  # a logical constraint set"
   ]
  },
  {
   "cell_type": "markdown",
   "metadata": {},
   "source": [
    "✅ All tasks per worker should not overlap.\n",
    "\n",
    "We represent this as \"pairs which belong to the same worker do not overlap\""
   ]
  },
  {
   "cell_type": "code",
   "execution_count": null,
   "metadata": {},
   "outputs": [],
   "source": [
    "task_pairs = [(tasks[i], tasks[j]) for i in 1:length(tasks)-1 for j in i+1:length(tasks)]"
   ]
  },
  {
   "cell_type": "code",
   "execution_count": null,
   "metadata": {},
   "outputs": [],
   "source": [
    "@variable(model_bicycle, assign_pair[task_pairs, workers], Logical)\n",
    "\n",
    "# restrict assign_pair to follow assign\n",
    "@constraint(model_bicycle, [p=task_pairs, w=workers],\n",
    "    # parentheses are CRUCIAL!\n",
    "    assign_pair[p, w] == (assign[p[1], w] && assign[p[2], w]) := true)\n",
    "\n",
    "# now we can create disjunctive constraints\n",
    "@constraint(model_bicycle, [p=task_pairs, w=workers], \n",
    "    times[p[1]] + 1 <= times[p[2]], Disjunct(assign_pair[p, w]));"
   ]
  },
  {
   "cell_type": "code",
   "execution_count": null,
   "metadata": {},
   "outputs": [],
   "source": [
    "# again, all logical variables used inside Disjunct tags need to passed to @disjunction\n",
    "@disjunction(model_bicycle, assign_pair, exactly1=false);"
   ]
  },
  {
   "cell_type": "markdown",
   "metadata": {},
   "source": [
    "### Solve it"
   ]
  },
  {
   "cell_type": "code",
   "execution_count": null,
   "metadata": {},
   "outputs": [],
   "source": [
    "@objective(model_bicycle, Min, sum(times))\n",
    "set_attribute(model_bicycle, \"output_flag\", false)  # hide HiGHS optimize! output \n",
    "optimize!(model_bicycle)\n",
    "@assert is_solved_and_feasible(model_bicycle)"
   ]
  },
  {
   "cell_type": "code",
   "execution_count": null,
   "metadata": {},
   "outputs": [],
   "source": [
    "round.(value.(times))"
   ]
  },
  {
   "cell_type": "code",
   "execution_count": null,
   "metadata": {},
   "outputs": [],
   "source": [
    "round.(Int, value.(binary_variable.(assign)))"
   ]
  },
  {
   "cell_type": "markdown",
   "metadata": {},
   "source": [
    "**👉 Your Challenge:** Add further tasks / further workers."
   ]
  },
  {
   "cell_type": "markdown",
   "metadata": {},
   "source": [
    "# Thank you\n",
    "\n",
    "For questions or suggestions please contact me at stephan.sahm@jolin.io\n",
    "\n",
    "<a href=\"https://www.jolin.io\" target=\"_blank\" rel=\"noreferrer noopener\">\n",
    "<img src=\"https://www.jolin.io/assets/Jolin/Jolin-Banner-Website-v1.3-darkmode.webp\">\n",
    "</a>"
   ]
  }
 ],
 "metadata": {
  "kernelspec": {
   "display_name": "Julia 1.10.1",
   "language": "julia",
   "name": "julia-1.10"
  },
  "language_info": {
   "file_extension": ".jl",
   "mimetype": "application/julia",
   "name": "julia",
   "version": "1.10.1"
  }
 },
 "nbformat": 4,
 "nbformat_minor": 2
}
